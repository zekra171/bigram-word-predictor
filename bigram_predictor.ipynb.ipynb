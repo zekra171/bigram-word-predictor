{
  "nbformat": 4,
  "nbformat_minor": 0,
  "metadata": {
    "colab": {
      "provenance": []
    },
    "kernelspec": {
      "name": "python3",
      "display_name": "Python 3"
    },
    "language_info": {
      "name": "python"
    }
  },
  "cells": [
    {
      "cell_type": "code",
      "source": [
        "import nltk\n",
        "from nltk import ngrams\n",
        "from collections import defaultdict\n",
        "import random"
      ],
      "metadata": {
        "id": "4YzIVZuXVz4y"
      },
      "execution_count": null,
      "outputs": []
    },
    {
      "cell_type": "code",
      "execution_count": null,
      "metadata": {
        "id": "w3mJwEb6VwUJ"
      },
      "outputs": [],
      "source": [
        "text = \"\"\"\n",
        "Once upon a luminous, starry night in the quaint, enigmatic town of Serendipity,\n",
        "a curious young explorer named Amelia embarked on an extraordinary adventure.\n",
        "With her trusty magnifying glass in hand and an indomitable spirit, she embarked on a quest to discover the elusive Elysian treasure hidden deep within the labyrinthine forest.\n",
        "As she ventured through the verdant woods, Amelia encountered an eccentric, talking squirrel named Percival, who spoke in riddles and guided her toward the treasure's whereabouts.\n",
        "The forest was resplendent with bioluminescent flora, illuminating her path with a kaleidoscope of colors.\n",
        "Amelia soon reached a precipice overlooking an awe-inspiring, cerulean waterfall, its cascading waters echoing a melodious serenade.\n",
        "Beside the waterfall stood a colossal, moss-covered stone with cryptic inscriptions.\n",
        "With Percival's guidance, she deciphered the ancient runes and uncovered the entrance to the treasure trove.\n",
        "Inside, she discovered an opulent chest adorned with intricate, golden filigree.\n",
        "Upon opening it, a symphony of shimmering jewels, radiant gemstones, and glistening artifacts greeted her with an ethereal glow.\n",
        "The Elysian treasure was hers, a testament to her dauntless courage and insatiable curiosity.\n",
        "Amelia's return to Serendipity was celebrated with jubilant revelry, and her remarkable journey became a legend, inspiring others to embark on their own adventures in the wondrous realm of imagination and discovery.\n",
        "\"\"\""
      ]
    },
    {
      "cell_type": "code",
      "source": [
        "import nltk\n",
        "\n",
        "# Tokenize the text into words\n",
        "words = nltk.word_tokenize(text)\n",
        "\n",
        "# Preprocess the words (convert to lowercase, remove punctuation)\n",
        "words = [word.lower() for word in words if word.isalnum()]\n",
        "\n",
        "words"
      ],
      "metadata": {
        "id": "3rKMLRrZWdxh"
      },
      "execution_count": null,
      "outputs": []
    },
    {
      "cell_type": "code",
      "source": [
        "N = 2\n",
        "\n",
        "# Create N-grams from the tokenized words\n",
        "ngrams_list = list(ngrams(words, N))\n",
        "\n",
        "# Create a defaultdict to store N-grams and their frequency\n",
        "ngram_freq = defaultdict(int)\n",
        "for ngram in ngrams_list:\n",
        "    ngram_freq[ngram] += 1"
      ],
      "metadata": {
        "id": "jRDSp2UmWi-P"
      },
      "execution_count": null,
      "outputs": []
    },
    {
      "cell_type": "code",
      "source": [
        "def predict_next_word(prefix):\n",
        "    # Filter N-grams that start with the given prefix\n",
        "    matching_ngrams = [(ngram, freq) for ngram, freq in ngram_freq.items() if ngram[:-1] == prefix]\n",
        "\n",
        "    if not matching_ngrams:\n",
        "        return \"No prediction available.\"\n",
        "\n",
        "    # Sort N-grams by frequency in descending order\n",
        "    sorted_ngrams = sorted(matching_ngrams, key=lambda x: x[1], reverse=True)\n",
        "\n",
        "    # Select the N-gram with the highest frequency as the prediction\n",
        "    prediction = sorted_ngrams[0][0][-1]\n",
        "\n",
        "    return prediction"
      ],
      "metadata": {
        "id": "eQXC2qR2Wphi"
      },
      "execution_count": null,
      "outputs": []
    },
    {
      "cell_type": "code",
      "source": [
        "user_input = input(\"Enter a prefix for next-word prediction: \").lower().split()\n",
        "if len(user_input) != N - 1:\n",
        "    print(\"Please enter a valid prefix.\")\n",
        "else:\n",
        "    prefix = tuple(user_input)\n",
        "    prediction = predict_next_word(prefix)\n",
        "    print(f\"Next word prediction: {prediction}\")"
      ],
      "metadata": {
        "id": "DaNEYzbDWulO"
      },
      "execution_count": null,
      "outputs": []
    }
  ]
}